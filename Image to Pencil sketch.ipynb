{
 "cells": [
  {
   "cell_type": "markdown",
   "id": "142e5aef",
   "metadata": {},
   "source": [
    "# Image to Pencil Sketch"
   ]
  },
  {
   "cell_type": "raw",
   "id": "c84e80c8",
   "metadata": {},
   "source": [
    "Install opencv library"
   ]
  },
  {
   "cell_type": "code",
   "execution_count": 1,
   "id": "d9bf599a",
   "metadata": {},
   "outputs": [
    {
     "name": "stdout",
     "output_type": "stream",
     "text": [
      "Defaulting to user installation because normal site-packages is not writeable\n",
      "Requirement already satisfied: opencv-python in c:\\users\\hp\\appdata\\roaming\\python\\python311\\site-packages (4.8.0.76)\n",
      "Requirement already satisfied: numpy>=1.21.2 in c:\\programdata\\anaconda3\\lib\\site-packages (from opencv-python) (1.24.3)\n"
     ]
    }
   ],
   "source": [
    "!pip install opencv-python"
   ]
  },
  {
   "cell_type": "code",
   "execution_count": 2,
   "id": "ed0c9235",
   "metadata": {},
   "outputs": [],
   "source": [
    "import cv2"
   ]
  },
  {
   "cell_type": "code",
   "execution_count": 3,
   "id": "e381a53a",
   "metadata": {},
   "outputs": [],
   "source": [
    "image = cv2.imread(\"D:\\VIT FOLDER\\Internships__2023\\lets grow more - data science\\Beginner - Task 4 - Image to pencil sketch\\plant.jpg\")"
   ]
  },
  {
   "cell_type": "code",
   "execution_count": 4,
   "id": "60a56f02",
   "metadata": {},
   "outputs": [
    {
     "data": {
      "text/plain": [
       "array([[[ 67, 164, 124],\n",
       "        [ 73, 169, 132],\n",
       "        [ 71, 167, 131],\n",
       "        ...,\n",
       "        [ 57, 198, 165],\n",
       "        [ 54, 197, 164],\n",
       "        [ 52, 197, 165]],\n",
       "\n",
       "       [[ 69, 165, 128],\n",
       "        [ 70, 166, 129],\n",
       "        [ 71, 167, 131],\n",
       "        ...,\n",
       "        [ 57, 198, 165],\n",
       "        [ 55, 198, 165],\n",
       "        [ 51, 196, 164]],\n",
       "\n",
       "       [[ 69, 165, 128],\n",
       "        [ 68, 164, 128],\n",
       "        [ 72, 168, 132],\n",
       "        ...,\n",
       "        [ 56, 197, 164],\n",
       "        [ 54, 197, 164],\n",
       "        [ 51, 196, 164]],\n",
       "\n",
       "       ...,\n",
       "\n",
       "       [[ 18, 116,  56],\n",
       "        [ 15, 119,  54],\n",
       "        [ 15, 119,  56],\n",
       "        ...,\n",
       "        [ 24, 165,  98],\n",
       "        [ 23, 165,  96],\n",
       "        [ 25, 167, 100]],\n",
       "\n",
       "       [[ 16, 114,  54],\n",
       "        [ 16, 117,  55],\n",
       "        [ 16, 117,  55],\n",
       "        ...,\n",
       "        [ 26, 166, 102],\n",
       "        [ 22, 162,  98],\n",
       "        [ 26, 168,  99]],\n",
       "\n",
       "       [[ 16, 119,  52],\n",
       "        [ 17, 116,  54],\n",
       "        [ 17, 116,  54],\n",
       "        ...,\n",
       "        [ 24, 166, 101],\n",
       "        [ 23, 163,  99],\n",
       "        [ 25, 166,  99]]], dtype=uint8)"
      ]
     },
     "execution_count": 4,
     "metadata": {},
     "output_type": "execute_result"
    }
   ],
   "source": [
    "image"
   ]
  },
  {
   "cell_type": "markdown",
   "id": "d01f9060",
   "metadata": {},
   "source": [
    "### Converting rgb image to gray scale image"
   ]
  },
  {
   "cell_type": "code",
   "execution_count": 5,
   "id": "f9b610db",
   "metadata": {},
   "outputs": [],
   "source": [
    "gray_image = cv2.cvtColor(image, cv2.COLOR_BGR2GRAY)"
   ]
  },
  {
   "cell_type": "code",
   "execution_count": 6,
   "id": "cfb0fdfa",
   "metadata": {},
   "outputs": [
    {
     "data": {
      "text/plain": [
       "-1"
      ]
     },
     "execution_count": 6,
     "metadata": {},
     "output_type": "execute_result"
    }
   ],
   "source": [
    "cv2.imshow('Grayscale', gray_image)\n",
    "cv2.waitKey(0)"
   ]
  },
  {
   "cell_type": "markdown",
   "id": "77e33b53",
   "metadata": {},
   "source": [
    "### Inverting the gray scale image "
   ]
  },
  {
   "cell_type": "code",
   "execution_count": 7,
   "id": "738e4a4c",
   "metadata": {},
   "outputs": [
    {
     "data": {
      "text/plain": [
       "-1"
      ]
     },
     "execution_count": 7,
     "metadata": {},
     "output_type": "execute_result"
    }
   ],
   "source": [
    "inverted_image = 255 - gray_image\n",
    "cv2.imshow(\"Inverted\", inverted_image)\n",
    "cv2.waitKey()"
   ]
  },
  {
   "cell_type": "code",
   "execution_count": 8,
   "id": "11ed1522",
   "metadata": {},
   "outputs": [],
   "source": [
    "blurred = cv2.GaussianBlur(inverted_image, (21, 21), 0)"
   ]
  },
  {
   "cell_type": "code",
   "execution_count": 9,
   "id": "ba328e71",
   "metadata": {},
   "outputs": [
    {
     "data": {
      "text/plain": [
       "-1"
      ]
     },
     "execution_count": 9,
     "metadata": {},
     "output_type": "execute_result"
    }
   ],
   "source": [
    "inverted_blurred = 255 - blurred\n",
    "pencil_sketch = cv2.divide(gray_image, inverted_blurred, scale=256.0)\n",
    "cv2.imshow(\"Pencil Sketch\", pencil_sketch)\n",
    "cv2.waitKey(0)"
   ]
  },
  {
   "cell_type": "code",
   "execution_count": 10,
   "id": "035da4e9",
   "metadata": {},
   "outputs": [
    {
     "data": {
      "text/plain": [
       "-1"
      ]
     },
     "execution_count": 10,
     "metadata": {},
     "output_type": "execute_result"
    }
   ],
   "source": [
    "cv2.imshow(\"original image\", image)\n",
    "cv2.imshow(\"pencil sketch\", pencil_sketch)\n",
    "cv2.waitKey(0)"
   ]
  }
 ],
 "metadata": {
  "kernelspec": {
   "display_name": "Python 3 (ipykernel)",
   "language": "python",
   "name": "python3"
  },
  "language_info": {
   "codemirror_mode": {
    "name": "ipython",
    "version": 3
   },
   "file_extension": ".py",
   "mimetype": "text/x-python",
   "name": "python",
   "nbconvert_exporter": "python",
   "pygments_lexer": "ipython3",
   "version": "3.11.3"
  }
 },
 "nbformat": 4,
 "nbformat_minor": 5
}
